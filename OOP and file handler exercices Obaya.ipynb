{
 "cells": [
  {
   "cell_type": "markdown",
   "id": "ed7c3efd",
   "metadata": {},
   "source": [
    "# Object-Oriented Programming (OOP) Practice Questions"
   ]
  },
  {
   "cell_type": "markdown",
   "id": "74fa3488",
   "metadata": {},
   "source": [
    "1) Create a class named Rectangle with attributes width and height. Implement methods to calculate\n",
    "the area and perimeter of the rectangle."
   ]
  },
  {
   "cell_type": "code",
   "execution_count": 9,
   "id": "e33c9b8d",
   "metadata": {},
   "outputs": [
    {
     "name": "stdout",
     "output_type": "stream",
     "text": [
      "Give a width of your rectangle: 5\n",
      "Now, give an heigth: 5\n",
      "Perimeter of your retangle is: 20\n"
     ]
    }
   ],
   "source": [
    "#creation of class named Rectangle\n",
    "class Rectangle:\n",
    "    def __init__(self, width, height):\n",
    "        self.width = width\n",
    "        self.height = height\n",
    "    \n",
    "    #implementation of calculate method\n",
    "    def calculate(self):\n",
    "        res = (self.width + self.height) * 2\n",
    "        return (res)\n",
    "\n",
    "#text example\n",
    "w = int(input(\"Give a width of your rectangle: \"))\n",
    "h=int(input(\"Now, give an heigth: \"))\n",
    "rect = Rectangle(w, h)\n",
    "print(f\"Perimeter of your retangle is: {rect.calculate()}\")"
   ]
  },
  {
   "cell_type": "markdown",
   "id": "debba4b5",
   "metadata": {},
   "source": [
    "2) Write a class named BankAccount that represents a bank account with attributes account_number,\n",
    "account_holder_name, and balance. Implement methods to deposit and withdraw money from the\n",
    "account while considering balance constraints."
   ]
  },
  {
   "cell_type": "code",
   "execution_count": 6,
   "id": "2b7f2f34",
   "metadata": {},
   "outputs": [
    {
     "name": "stdout",
     "output_type": "stream",
     "text": [
      "Marie Paul\n",
      "Deposit value: 40\n",
      "Deposit successful. New balance: 140\n",
      "Withdraw value: 150\n",
      "Insuffisant funds\n"
     ]
    }
   ],
   "source": [
    "#class bank account creation\n",
    "class BankAccount:\n",
    "    def __init__(self, account_number, account_holder_name, balance):\n",
    "        self.account_number = account_number\n",
    "        self.account_holder_name = account_holder_name\n",
    "        self.balance = balance\n",
    "    \n",
    "    #deposit method\n",
    "    def deposit(self, amount):\n",
    "        if amount>0:\n",
    "            self.balance+=amount\n",
    "            print(f\"Deposit successful. New balance: {self.balance}\")\n",
    "        else:\n",
    "            print(\"Invalid deposit amount!\")\n",
    "     \n",
    "    #withdraw method\n",
    "    def withdraw(self, amount):\n",
    "        if amount<=0:\n",
    "            print(\"Invalid withdraw amount\")\n",
    "        elif amount>self.balance:\n",
    "            print(\"Insuffisant funds\")\n",
    "        else:\n",
    "            self.balance-=amount\n",
    "            print(f\"Withdraw succesful. New balance: {self.balance}\")\n",
    "\n",
    "#Evaluation of class Bankaccount\n",
    "account = BankAccount(123445, \"Marie Paul\", 100)\n",
    "print(account.account_holder_name)\n",
    "account.deposit(int(input(\"Deposit value: \")))\n",
    "account.withdraw(int(input(\"Withdraw value: \")))           \n",
    "        "
   ]
  },
  {
   "cell_type": "markdown",
   "id": "8bd65a84",
   "metadata": {},
   "source": [
    "3) Create a class hierarchy for a game, with a base class Game and derived classes such as Chess,\n",
    "Monopoly, and Scrabble. Implement different methods and attributes specific to each game."
   ]
  },
  {
   "cell_type": "code",
   "execution_count": 5,
   "id": "eabb0dc6",
   "metadata": {},
   "outputs": [
    {
     "name": "stdout",
     "output_type": "stream",
     "text": [
      "Enter the number of players: 6\n",
      "Monopoly is starting with 6 players\n",
      "Let's play Monopoly\n",
      "Monopoly has ended\n"
     ]
    }
   ],
   "source": [
    "#parent class Game\n",
    "class Game:\n",
    "    def __init__(self, name, players):\n",
    "        self.name = name\n",
    "        self.players = players\n",
    "    def start(self):\n",
    "        print(f\"{self.name} is starting with {self.players} players\")\n",
    "    def end(self):\n",
    "        print(f\"{self.name} has ended\")\n",
    "        \n",
    "#children class which inherite of game class\n",
    "class Chess(Game):\n",
    "    def __init__(self, players):\n",
    "        super().__init__(\"Chess\", players)\n",
    "    def start(self):\n",
    "        super().start()\n",
    "        print(\"Let's play Chess\")\n",
    "    def end(self):\n",
    "        super().end()\n",
    "        \n",
    "class Monopoly(Game):\n",
    "    def __init__(self, players):\n",
    "        super().__init__(\"Monopoly\", players)\n",
    "    def start(self):\n",
    "        super().start()\n",
    "        print(\"Let's play Monopoly\")\n",
    "    def end(self):\n",
    "        super().end()\n",
    "        \n",
    "class Scrabble(Game):\n",
    "    def __init__(self, players):\n",
    "        super().__init__(\"Scrabble\", players)\n",
    "    def start(self):\n",
    "        super().start()\n",
    "        print(\"Let's play Scrabble\")\n",
    "    def end(self):\n",
    "        super().end()\n",
    "\n",
    "#test example\n",
    "game_players = int(input(\"Enter the number of players: \"))\n",
    "game1 = Monopoly(game_players)\n",
    "game1.start()\n",
    "game1.end()      \n",
    " "
   ]
  },
  {
   "cell_type": "markdown",
   "id": "0c337b7e",
   "metadata": {},
   "source": [
    "4) Implement a class called Car with attributes make, model, and year. Add a class method that\n",
    "returns the total count of cars created."
   ]
  },
  {
   "cell_type": "code",
   "execution_count": 16,
   "id": "c0bde352",
   "metadata": {},
   "outputs": [
    {
     "name": "stdout",
     "output_type": "stream",
     "text": [
      "3\n"
     ]
    }
   ],
   "source": [
    "class Car: \n",
    "    total_cars = 0 #variable which store total cars created\n",
    "    \n",
    "    def __init__(self, make, model, year):\n",
    "        self.make = make\n",
    "        self.model = model\n",
    "        self.year = year\n",
    "        Car.total_cars+=1 #increment the total count of cars after initialization\n",
    "        \n",
    "    #method which return total count of car created\n",
    "    @classmethod\n",
    "    def countCar(cls):\n",
    "        return cls.total_cars\n",
    "\n",
    "#creation of some cars\n",
    "car1 = Car(\"Honda\", \"Civic\", 2017)\n",
    "car2 = Car(\"Toyota\", \"Corolla\", 1994)\n",
    "car3 = Car(\"Mercedes\", \"Benz\", 2003)\n",
    "\n",
    "#called countCar method\n",
    "print(Car.countCar())"
   ]
  },
  {
   "cell_type": "markdown",
   "id": "4bcca81c",
   "metadata": {},
   "source": [
    "5) Design a class called Employee with attributes name, salary, and designation. Implement a\n",
    "method that calculates the annual bonus based on the employee's salary and designation."
   ]
  },
  {
   "cell_type": "code",
   "execution_count": 18,
   "id": "3f95be1b",
   "metadata": {},
   "outputs": [
    {
     "name": "stdout",
     "output_type": "stream",
     "text": [
      "Input name of employee: Laure oby\n",
      "Input salary of employee: 50000\n",
      "Input designation of employee: officer\n",
      "Laure oby has 2500.0 annual bonus\n"
     ]
    }
   ],
   "source": [
    "class Employee:\n",
    "    def __init__(self, name, salary, designation):\n",
    "        self.name = name\n",
    "        self.salary = salary\n",
    "        self.designation = designation\n",
    "    \n",
    "    def AnnualBonus(self):\n",
    "        if self.designation == \"Manager\":\n",
    "            bonus_percentage = 0.15\n",
    "        elif self.designation == \"Director\":\n",
    "            bonus_percentage = 0.1\n",
    "        else:\n",
    "            bonus_percentage = 0.05\n",
    "        annual_bonus = self.salary*bonus_percentage\n",
    "        return annual_bonus\n",
    "    \n",
    "#test class\n",
    "employee = Employee(input(\"Input name of employee: \"), int(input(\"Input salary of employee: \")), input(\"Input designation of employee: \"))\n",
    "bonus = employee.AnnualBonus()\n",
    "print(f\"{employee.name} has {bonus} annual bonus\")\n",
    "        "
   ]
  },
  {
   "cell_type": "markdown",
   "id": "1be39236",
   "metadata": {},
   "source": [
    "# File Handling Practice Questions"
   ]
  },
  {
   "cell_type": "markdown",
   "id": "e54d6425",
   "metadata": {},
   "source": [
    "1) Write a Python program that reads a text file and counts the occurrences of each word in the file.\n",
    "Display the word frequency as a dictionary."
   ]
  },
  {
   "cell_type": "code",
   "execution_count": 21,
   "id": "31942650",
   "metadata": {},
   "outputs": [
    {
     "name": "stdout",
     "output_type": "stream",
     "text": [
      "...and: 1\n",
      "more: 1\n",
      "interestingNames:LucieSophie: 1\n"
     ]
    }
   ],
   "source": [
    "#function takes file path as parameter\n",
    "def count_word_frequency(file_path):\n",
    "    #initialization of empty dictionnary to store the word frequency count\n",
    "    word_frequency = {}\n",
    "    \n",
    "    #open file and read the file line by line and splits each line into indivuduals words. The split method is used\n",
    "    #to remove any\n",
    "    with open(file_path, 'r') as file:\n",
    "        for line in file:\n",
    "            words = line.strip().split()\n",
    "        for word in words:\n",
    "            #for each word we increment the value of word freqency and get method help to count each word\n",
    "            word_frequency[word] = word_frequency.get(word, 0) + 1\n",
    "    return word_frequency\n",
    "\n",
    "#test exemple\n",
    "file_path = '/home/laureoby/Bureau/Go Girl Code/file.txt'\n",
    "frequency_dict = count_word_frequency(file_path)\n",
    "\n",
    "#display word frequency\n",
    "for word, count in frequency_dict.items():\n",
    "    print(f\"{word}: {count}\")"
   ]
  },
  {
   "cell_type": "markdown",
   "id": "9d7b5aa8",
   "metadata": {},
   "source": [
    "2) Write a Python function that accepts a directory path as input and recursively lists all file names\n",
    "in that directory and its subdirectories."
   ]
  },
  {
   "cell_type": "code",
   "execution_count": 23,
   "id": "d286af34",
   "metadata": {},
   "outputs": [
    {
     "name": "stdout",
     "output_type": "stream",
     "text": [
      "Input a directory path: /home/laureoby/Bureau/DI_article\n",
      "/home/laureoby/Bureau/DI_article/model_classifier.jbl\n",
      "/home/laureoby/Bureau/DI_article/PREDICTION_DE_LA_CONGESTION_DANS_LES_EQUIPEMENTS_DE_TELECOMMUNICATION.ipynb\n",
      "/home/laureoby/Bureau/DI_article/Toutes_les_correlations.png\n",
      "/home/laureoby/Bureau/DI_article/class.png\n",
      "/home/laureoby/Bureau/DI_article/matrice de correlation.png\n",
      "/home/laureoby/Bureau/DI_article/xtrain.txt\n",
      "/home/laureoby/Bureau/DI_article/True.csv\n",
      "/home/laureoby/Bureau/DI_article/Learning Curves (Logistic Regression).png\n",
      "/home/laureoby/Bureau/DI_article/Telecoms.ipynb\n",
      "/home/laureoby/Bureau/DI_article/ytest.txt\n",
      "/home/laureoby/Bureau/DI_article/Learning Curves (Gaussian Naive Bayes).png\n",
      "/home/laureoby/Bureau/DI_article/DLI_2023_word_template.docx\n",
      "/home/laureoby/Bureau/DI_article/KDDTrain+.txt\n",
      "/home/laureoby/Bureau/DI_article/ytrain.txt\n",
      "/home/laureoby/Bureau/DI_article/xtest.txt\n",
      "/home/laureoby/Bureau/DI_article/protocol.png\n",
      "/home/laureoby/Bureau/DI_article/features.png\n",
      "/home/laureoby/Bureau/DI_article/Fake.csv\n",
      "/home/laureoby/Bureau/DI_article/attack.png\n",
      "/home/laureoby/Bureau/DI_article/matrice_de_correlation_protocole_de_connexion.png\n",
      "/home/laureoby/Bureau/DI_article/Learning Curves (NEURAL NETWORK).png\n",
      "/home/laureoby/Bureau/DI_article/Fake news.ipynb\n",
      "/home/laureoby/Bureau/DI_article/matrice_de_correlation_port_destinataire_attribué_au_service.png\n",
      "/home/laureoby/Bureau/DI_article/DLI_2023_word_template.odt\n",
      "/home/laureoby/Bureau/DI_article/DLI_2023_word_template_Obaya.odt\n",
      "/home/laureoby/Bureau/DI_article/.ipynb_checkpoints/PREDICTION_DE_LA_CONGESTION_DANS_LES_EQUIPEMENTS_DE_TELECOMMUNICATION-checkpoint.ipynb\n",
      "/home/laureoby/Bureau/DI_article/.ipynb_checkpoints/Telecoms-checkpoint.ipynb\n",
      "/home/laureoby/Bureau/DI_article/.ipynb_checkpoints/Fake news-checkpoint.ipynb\n",
      "/home/laureoby/Bureau/DI_article/Cours/Free Ebook - The Ultimate Guide to Basic Data Cleaning.pdf\n",
      "/home/laureoby/Bureau/DI_article/Cours/PROGRES2019_5.pdf\n",
      "/home/laureoby/Bureau/DI_article/Cours/st-tutor3-python-scikit.pdf\n",
      "/home/laureoby/Bureau/DI_article/Cours/scikit-learn-fr.pdf\n",
      "/home/laureoby/Bureau/DI_article/Cours/Douid Rania( PROJET DE FIN D'ETUDE POUR L'OBTENTION DU DIPLOME...).pdf\n",
      "/home/laureoby/Bureau/DI_article/Cours/KDD2019_Showcase_2071.pdf\n",
      "/home/laureoby/Bureau/DI_article/Cours/C&ESAR_2018_J2-09_M-LABONNE_automatisation_ML_pour detection_intrusion.pdf\n",
      "/home/laureoby/Bureau/DI_article/docs hub/ch4_slides.pdf\n",
      "/home/laureoby/Bureau/DI_article/docs hub/Statistiques et Probabilites de base_semaine_4.ipynb\n",
      "/home/laureoby/Bureau/DI_article/docs hub/Download directly here by tapping to expand.pdf\n",
      "/home/laureoby/Bureau/DI_article/docs hub/train.csv\n",
      "/home/laureoby/Bureau/DI_article/docs hub/Introduction_a_Numpy_et_a_la_programmation_avec_Python_Semaine2.ipynb\n",
      "/home/laureoby/Bureau/DI_article/docs hub/Introduction_à_Python.ipynb\n",
      "/home/laureoby/Bureau/DI_article/docs hub/Free Ebook - The Ultimate Guide to Basic Data Cleaning.pdf\n",
      "/home/laureoby/Bureau/DI_article/docs hub/TAF.zip\n",
      "/home/laureoby/Bureau/DI_article/docs hub/Statistiques et Probabilites de base.ipynb\n",
      "/home/laureoby/Bureau/DI_article/docs hub/SLIDES GOOGLE COLAB.pdf\n",
      "/home/laureoby/Bureau/DI_article/docs hub/Numpy.pdf\n",
      "/home/laureoby/Bureau/DI_article/docs hub/Algebre Lineaire.pdf\n",
      "/home/laureoby/Bureau/DI_article/docs hub/KDD2019_Showcase_2071.pdf\n",
      "/home/laureoby/Bureau/DI_article/docs hub/Linear_Algebra_semaine_3.ipynb\n",
      "/home/laureoby/Bureau/DI_article/docs hub/Linear_Algebra_semaine3.ipynb\n",
      "/home/laureoby/Bureau/DI_article/docs hub/Real python 3.pdf\n",
      "/home/laureoby/Bureau/DI_article/docs hub/ANALYSE EXPLORATOIRE DES DONNEES.zip\n",
      "/home/laureoby/Bureau/DI_article/docs hub/Introduction_à_Python_Semaine1.ipynb\n",
      "/home/laureoby/Bureau/DI_article/docs hub/Introduction to data science.pptx\n",
      "/home/laureoby/Bureau/DI_article/docs hub/.ipynb_checkpoints/Linear_Algebra_semaine_3-checkpoint.ipynb\n",
      "/home/laureoby/Bureau/DI_article/docs hub/.ipynb_checkpoints/Linear_Algebra_semaine3-checkpoint.ipynb\n",
      "/home/laureoby/Bureau/DI_article/docs hub/.ipynb_checkpoints/Statistiques et Probabilites de base-checkpoint.ipynb\n",
      "/home/laureoby/Bureau/DI_article/docs hub/.ipynb_checkpoints/Introduction_à_Python_Semaine1-checkpoint.ipynb\n",
      "/home/laureoby/Bureau/DI_article/docs hub/.ipynb_checkpoints/Introduction_a_Numpy_et_a_la_programmation_avec_Python_Semaine2-checkpoint.ipynb\n",
      "/home/laureoby/Bureau/DI_article/docs hub/.ipynb_checkpoints/Statistiques et Probabilites de base_semaine_4-checkpoint.ipynb\n",
      "/home/laureoby/Bureau/DI_article/docs hub/.ipynb_checkpoints/Introduction_à_Python-checkpoint.ipynb\n"
     ]
    }
   ],
   "source": [
    "import os\n",
    "\n",
    "def list_files(dir):\n",
    "    file_list = []\n",
    "    #os.walk function generate file names in a directory tree by walking tree by walking the tree either \n",
    "    #top-down or bottom-up. For each directory visited, os.walk return a tuple containing the root directory, a list\n",
    "    #of subdirectories and a list of files. Then iterate over the files and append the file paths to the file_list\n",
    "    for root, dirs, files in os.walk(dir):\n",
    "        for file in files:\n",
    "            file_path = os.path.join(root, file)\n",
    "            file_list.append(file_path)\n",
    "    return file_list\n",
    "\n",
    "#test example /home/laureoby/Bureau/DI_article\n",
    "dir_path = input(\"Input a directory path: \")\n",
    "files = list_files(dir_path)\n",
    "for file in files:\n",
    "    print(file)"
   ]
  },
  {
   "cell_type": "markdown",
   "id": "953c0233",
   "metadata": {},
   "source": [
    "3) Create a program that reads an image file, applies a grayscale filter to it, and saves the modified\n",
    "image as a new file."
   ]
  },
  {
   "cell_type": "code",
   "execution_count": null,
   "id": "7608e108",
   "metadata": {},
   "outputs": [],
   "source": [
    "#The library called Pillow (PIL) is used to read, modify and save images files\n",
    "From PIL import Image\n",
    "\n",
    "def grayscaleFilter(img_path, output_path):\n",
    "    #open the image file\n",
    "    img = Image.open(img_path)\n",
    "    \n",
    "    #convert image to grayscale\n",
    "    grayscale_img = img.convert(\"L\")\n",
    "    \n",
    "    #save the modified image\n",
    "    grayscale_img.save(output_path)\n",
    "    print(f\"Image convert to grayscale save in: {output_path}\")\n",
    "\n",
    "#test example\n",
    "img_path = input(\"Input path of original image: \")\n",
    "output_path = input(\"Input path of grayscale image as path/name_of_future_grayscale_picture.extension: \")\n",
    "\n",
    "#called function\n",
    "grayscaleFilter(img_path, output_path)"
   ]
  }
 ],
 "metadata": {
  "kernelspec": {
   "display_name": "Python 3 (ipykernel)",
   "language": "python",
   "name": "python3"
  },
  "language_info": {
   "codemirror_mode": {
    "name": "ipython",
    "version": 3
   },
   "file_extension": ".py",
   "mimetype": "text/x-python",
   "name": "python",
   "nbconvert_exporter": "python",
   "pygments_lexer": "ipython3",
   "version": "3.8.10"
  }
 },
 "nbformat": 4,
 "nbformat_minor": 5
}
